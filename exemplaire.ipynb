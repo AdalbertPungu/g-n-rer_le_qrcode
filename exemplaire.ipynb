{
 "cells": [
  {
   "cell_type": "code",
   "execution_count": 1,
   "source": [
    "msg = \"Hi, I am Adalbert Pungu\"\r\n",
    "print(msg)"
   ],
   "outputs": [
    {
     "output_type": "stream",
     "name": "stdout",
     "text": [
      "Hi, I am Adalbert Pungu\n"
     ]
    }
   ],
   "metadata": {}
  },
  {
   "cell_type": "markdown",
   "source": [
    "# PREMIER EXEMPLE\r\n",
    "\r\n",
    "#### Générer du code QR avec le Python\r\n",
    "\r\n",
    "Python a une bibliothèque « qrcode » pour générer des images de code QR. Il peut être installé à l’aide de pip"
   ],
   "metadata": {}
  },
  {
   "cell_type": "markdown",
   "source": [
    "### Etape 1: Installation de la bibliothèque qrcode\r\n",
    "\r\n",
    "```python\r\n",
    "pip installer qrcode\r\n",
    "```\r\n",
    "### Etape 2: Générer un qrcode \r\n",
    "\r\n",
    "* importé la bibliothèque qrcode\r\n",
    "* Créez un Qrcode en utilisant la fonction make()\r\n",
    "* qrcode.make() pour créer un qrcode et il renvoie un objet PilImage. Enregistrer dans l’image\r\n",
    "```python\r\n",
    "qrcode.make('Données à encoder')\r\n",
    "```\r\n"
   ],
   "metadata": {}
  },
  {
   "cell_type": "code",
   "execution_count": 2,
   "source": [
    "#importation de la bibliothèque qrcode\r\n",
    "import qrcode \r\n",
    "#dans la varible on stocke les données à encoder  \r\n",
    "data = 'QR Code using make() fuction'\r\n",
    "#generation de l'image\r\n",
    "img = qrcode.make(data) \r\n",
    "#enreqistrement de l'image  \r\n",
    "img.save('imagecodeqr.png')"
   ],
   "outputs": [],
   "metadata": {}
  },
  {
   "cell_type": "markdown",
   "source": [
    "# DEUXIEME EXEMPLE"
   ],
   "metadata": {}
  },
  {
   "cell_type": "markdown",
   "source": [
    "### DETAILS\r\n",
    "<p> Nous pouvons également utiliser la classe QRCode pour créer un QR Code et modifier ses détails. Il prend les paramètres suivants:</p>\r\n",
    "\r\n",
    "<p><b>Version</b> : Ce paramètre est un entier de 1 à 40 qui contrôle la taille du QR Code (le plus petit, la version 1, est une matrice 21 × 21).</b>\r\n",
    "\r\n",
    "<p><b>error_correction</b> : ce paramètre contrôle la correction d’erreur utilisée pour le code QR. Les quatre constantes suivantes sont disponibles pour cela:</p>\r\n",
    "\r\n",
    "* qrcode.constants.ERROR_CORRECT_L : Environ 7% ou moins d’erreurs peuvent être corrigées.\r\n",
    "qrcode.constants.ERROR_CORRECT_M (par défaut) : Environ 15% ou moins d’erreurs peuvent être corrigées.\r\n",
    "* qrcode.constants.ERROR_CORRECT_Q : Environ 25% ou moins d’erreurs peuvent être corrigées.\r\n",
    "* qrcode.constants.ERROR_CORRECT_H : Environ 30% ou moins d’erreurs peuvent être corrigées.\r\n",
    "\r\n",
    "<p><b>box_size</b> : Ce paramètre contrôle le nombre de pixels de chaque «case» du code QR.</p>\r\n",
    "<p><b>border</b> : Le paramètre border contrôle le nombre de cases d’épaisseur de la bordure (la valeur par défaut est 4, qui est le minimum dans la spécification).</p>\r\n",
    "<p><b>add_data()</b>: Cette méthode est utilisée pour ajouter des données à l’objet QRCode. Il prend les données à encoder en tant que paramètre.</b>\r\n",
    "<p><b>make()</b> : Cette méthode avec (fit = True) garantit que toute la dimension du QR Code est utilisée, même si nos données d’entrée peuvent tenir dans moins de cases.</p>\r\n",
    "<p><b>make_image()</b> : Cette méthode est utilisée pour convertir l’objet QRCode en un fichier image. Il faut les paramètres facultatifs fill_color et back_color pour définir la couleur de premier plan et d’arrière-plan.</p>"
   ],
   "metadata": {}
  },
  {
   "cell_type": "code",
   "execution_count": 3,
   "source": [
    "#importation de la bibliothèque qrcode\r\n",
    "import qrcode \r\n",
    "#dans la varible on stocke les données à encoder\r\n",
    "data = \"Follow me on Linkedin: https://www.linkedin.com/in/AdalbertPungu/\"\r\n",
    "  \r\n",
    "qr = qrcode.QRCode(version = 1, \r\n",
    "                   box_size = 5, \r\n",
    "                   border = 5) \r\n",
    "# La méthode add_data() est utilisée pour ajouter des données à l’objet QRCode. \r\n",
    "# Il prend les données à encoder en tant que paramètre.\r\n",
    "qr.add_data(data) \r\n",
    "\r\n",
    "# La méthode make(fit = True) garantit que toute la dimension du QR Code est utilisée, \r\n",
    "# même si nos données d’entrée peuvent tenir dans moins de cases.\r\n",
    "qr.make(fit = True)\r\n",
    "\r\n",
    "# Ont convertie convertir l’objet QRCode en un fichier image à l'aide de la méthode\r\n",
    "# make_image() et en définissent la couleur de premier plan et d’arrière-plan\r\n",
    "img = qr.make_image(fill_color = 'black', \r\n",
    "                    back_color = 'white') \r\n",
    "#enreqistrement de l'image\r\n",
    "img.save('imagecodeqr2.png')"
   ],
   "outputs": [],
   "metadata": {}
  },
  {
   "cell_type": "markdown",
   "source": [
    "## Thank You !"
   ],
   "metadata": {}
  }
 ],
 "metadata": {
  "orig_nbformat": 4,
  "language_info": {
   "name": "python",
   "version": "3.9.5",
   "mimetype": "text/x-python",
   "codemirror_mode": {
    "name": "ipython",
    "version": 3
   },
   "pygments_lexer": "ipython3",
   "nbconvert_exporter": "python",
   "file_extension": ".py"
  },
  "kernelspec": {
   "name": "python3",
   "display_name": "Python 3.9.5 64-bit"
  },
  "interpreter": {
   "hash": "dfd23b989bd9454eb11757f4ab656242147a95a3b829f61f7dcbd9812b20a203"
  }
 },
 "nbformat": 4,
 "nbformat_minor": 2
}