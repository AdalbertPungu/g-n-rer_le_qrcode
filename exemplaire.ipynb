{
 "cells": [
  {
   "cell_type": "code",
   "execution_count": 1,
   "source": [
    "msg = \"Hi, I am Adalbert Pungu\"\r\n",
    "print(msg)"
   ],
   "outputs": [
    {
     "output_type": "stream",
     "name": "stdout",
     "text": [
      "Hi, I am Adalbert Pungu\n"
     ]
    }
   ],
   "metadata": {}
  },
  {
   "cell_type": "markdown",
   "source": [
    "# PREMIER EXEMPLE\r\n",
    "\r\n",
    "#### Générer du code QR avec le Python\r\n",
    "\r\n",
    "Python a une bibliothèque « qrcode » pour générer des images de code QR. Il peut être installé à l’aide de pip"
   ],
   "metadata": {}
  },
  {
   "cell_type": "markdown",
   "source": [
    "### Etape 1: Installation de la bibliothèque qrcode\r\n",
    "\r\n",
    "```python\r\n",
    "pip installer qrcode\r\n",
    "```\r\n",
    "### Etape 2: Générer un qrcode \r\n",
    "\r\n",
    "* importé la bibliothèque qrcode\r\n",
    "* Créez un Qrcode en utilisant la fonction make()\r\n",
    "* qrcode.make() pour créer un qrcode et il renvoie un objet PilImage. Enregistrer dans l’image\r\n",
    "```python\r\n",
    "qrcode.make('Données à encoder')\r\n",
    "```\r\n"
   ],
   "metadata": {}
  },
  {
   "cell_type": "code",
   "execution_count": 2,
   "source": [
    "#importation de la bibliothèque qrcode\r\n",
    "import qrcode \r\n",
    "#dans la varible on stocke les données à encoder  \r\n",
    "data = 'QR Code using make() fuction'\r\n",
    "#generation de l'image\r\n",
    "img = qrcode.make(data) \r\n",
    "#enreqistrement de l'image  \r\n",
    "img.save('imagecodeqr.png')"
   ],
   "outputs": [],
   "metadata": {}
  }
 ],
 "metadata": {
  "orig_nbformat": 4,
  "language_info": {
   "name": "python",
   "version": "3.9.5",
   "mimetype": "text/x-python",
   "codemirror_mode": {
    "name": "ipython",
    "version": 3
   },
   "pygments_lexer": "ipython3",
   "nbconvert_exporter": "python",
   "file_extension": ".py"
  },
  "kernelspec": {
   "name": "python3",
   "display_name": "Python 3.9.5 64-bit"
  },
  "interpreter": {
   "hash": "dfd23b989bd9454eb11757f4ab656242147a95a3b829f61f7dcbd9812b20a203"
  }
 },
 "nbformat": 4,
 "nbformat_minor": 2
}